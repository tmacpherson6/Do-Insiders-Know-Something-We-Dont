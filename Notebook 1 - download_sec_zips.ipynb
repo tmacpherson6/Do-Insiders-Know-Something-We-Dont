{
 "cells": [
  {
   "cell_type": "markdown",
   "metadata": {},
   "source": [
    "# SEC Data Aquisition\n",
    "\n",
    "### Intial Notes\n",
    "This notebook originiated from the work of Kirtland Corregan in our Milestone I porject of the Master's of Applied Data Science. I have forked the original data that can be seen here: https://github.com/RamiHaider/Do-Insiders-Know-Something-We-Dont. The reason for doing this is two fold. Firstly, I want to run through the code line by line in order to fully undestand and implement the data aquisition phase of the project. Secondly, I want to expand all files that I didn't do personally so they are in a Jupyter Notebook format for easy explanation and reproduction.\n",
    "\n",
    "In some cases I may change the code in order to follow more strict coding guidelines or for more efficient processes. I plan on continuing the project in my own time for a more deep analysis and hope to use it for further generation of alpha.\n",
    "\n",
    "## Archived Form 4 Data\n",
    "This notebook is used to download the archived quarterly SEC Form 4 ZIP files from the SEC website: https://www.sec.gov/data-research/sec-markets-data/insider-transactions-data-sets. We have designed the paths to store locally for further processing in analysis. The current working directory will be the one where this notebook is saved.\n",
    "\n",
    "### Section 1: Import Libraries  \n",
    "The first thing that we will do is import all of the libraries that we will need for this notebook. There shouldn't be many as we are just downloading files from a website."
   ]
  },
  {
   "cell_type": "code",
   "execution_count": null,
   "metadata": {},
   "outputs": [],
   "source": [
    "# import libraries\n",
    "import os\n",
    "import requests\n",
    "import pandas as pd"
   ]
  },
  {
   "cell_type": "markdown",
   "metadata": {},
   "source": [
    "### Section 2: Explicity Set Working Directory  \n",
    "To start, we will explicity set the working directory to the one in which we are saving this notebook. This will allow us to create the necessary directory for storage of the zip files and then we will be able to use relative paths in all future notebooks to access any of the intermediate CSV files or original documents."
   ]
  },
  {
   "cell_type": "code",
   "execution_count": null,
   "metadata": {},
   "outputs": [],
   "source": [
    "# Let's confirm we are in the right directory\n",
    "notebook_dif = os.getcwd()\n",
    "print(f\"Current working directory: {os.getcwd()}\")"
   ]
  },
  {
   "cell_type": "markdown",
   "metadata": {},
   "source": [
    "### Section 3: Download Archived Form 4 ZIP files from SEC Website\n",
    "Let's create a function that will download the archived ZIP files from the SEC website. We will be downloading all files that we can get, so every quarter we can rerun this workflow and expand our novel dataset in the future for deeper analysis.\n",
    "\n",
    "This function will:  \n",
    "1) Create or open the directory for storing the ZIP files  \n",
    "2) Dynamically find the current quarter  \n",
    "3) Iterate through 2006 to Now and download the ZIP files  \n",
    "4) Elegantly catch errors and show any failed downloads"
   ]
  },
  {
   "cell_type": "code",
   "execution_count": null,
   "metadata": {
    "colab": {
     "base_uri": "https://localhost:8080/"
    },
    "executionInfo": {
     "elapsed": 19880,
     "status": "ok",
     "timestamp": 1748996588592,
     "user": {
      "displayName": "Kirtland Corregan",
      "userId": "12271392998891066272"
     },
     "user_tz": 240
    },
    "id": "PIEIoKr3CqyY",
    "outputId": "afbd93c4-15d1-49dd-8c28-e7f519727ea8"
   },
   "outputs": [],
   "source": [
    "# Create a function to download SEC Form 4 ZIP files\n",
    "def download_sec_zips(save_dir: str = \"sec_zips\") -> None:\n",
    "    ''' \n",
    "    This is a function that will download SEC Form 4 ZIP files from the SEC website.\n",
    "    \n",
    "    Parameters:\n",
    "    save_dir (str): The directory where the downloaded ZIP files will be saved.\n",
    "                     Default is \"sec_zips\".\n",
    "    output:\n",
    "    This function will download all available SEC Form 4 ZIP files from 2006 to the current year and quarter.\n",
    "    '''\n",
    "\n",
    "    # Create directory if it doesn't exist otherwise use existing directory.\n",
    "    os.makedirs(save_dir, exist_ok=True)\n",
    "    # The base URL for the SEC Form 4 data sets.\n",
    "    base_url = (\n",
    "        \"https://www.sec.gov/files/structureddata/data/insider-transactions-data-sets\"\n",
    "    )\n",
    "\n",
    "    # SEC blocks anonymous requests; requires a valid email.\n",
    "    headers = {\"User-Agent\": \"tmacphe@umich.edu\"}\n",
    "\n",
    "    # Create a list to keep track of any failed downloads\n",
    "    failed = []\n",
    "\n",
    "    # Let's get the current year and quarter so that we can get the most recent data\n",
    "    now = pd.Timestamp.now()\n",
    "    current_year = now.year\n",
    "    quarter = now.quarter\n",
    "\n",
    "    # Now that we have this, we can dynamically set the range of years and quarters to download.\n",
    "    for year in range(2006, current_year + 1):\n",
    "        for q in range(1, 5):\n",
    "            if year == current_year and q >= quarter:\n",
    "                break  # Only get files through the latest completed quarter.\n",
    "\n",
    "            # Construct the filename and URL for each quarter so we can download the zip files.\n",
    "            filename = f\"{year}q{q}_form345.zip\"\n",
    "            url = f\"{base_url}/{filename}\"\n",
    "            local_path = os.path.join(save_dir, filename)\n",
    "\n",
    "            try:\n",
    "                # Send a GET request to the URL to download the file.\n",
    "                r = requests.get(url, headers=headers, timeout=30)\n",
    "                # Check to see if the request was successful.(200 means successful download)\n",
    "                if r.status_code == 200:\n",
    "                    # Open file and then save to the local directory.\n",
    "                    with open(local_path, \"wb\") as f:\n",
    "                        f.write(r.content)\n",
    "                    print(f\"Downloaded: {filename}\")\n",
    "                else:\n",
    "                    print(f\"Failed: {filename} (status {r.status_code})\")\n",
    "                    failed.append(filename)\n",
    "            # Handle any exceptions that occur during the download process.\n",
    "            except Exception as e:\n",
    "                print(f\"Error downloading {filename}: {e}\")\n",
    "                failed.append(filename)\n",
    "\n",
    "    if failed:\n",
    "        print(\"\\nSome files failed to download:\")\n",
    "        for f in failed:\n",
    "            print(\" -\", f)\n",
    "    else:\n",
    "        print(\"\\nAll zip files downloaded successfully.\")\n"
   ]
  },
  {
   "cell_type": "markdown",
   "metadata": {},
   "source": [
    "Now that we have completely set up the function we can run it independently and make sure that we get all of the files. We have use print statements so that we can track the status of the function as it iterates through all of the data."
   ]
  },
  {
   "cell_type": "code",
   "execution_count": null,
   "metadata": {
    "colab": {
     "base_uri": "https://localhost:8080/"
    },
    "executionInfo": {
     "elapsed": 110919,
     "status": "ok",
     "timestamp": 1748996699520,
     "user": {
      "displayName": "Kirtland Corregan",
      "userId": "12271392998891066272"
     },
     "user_tz": 240
    },
    "id": "ioU4bGbQJW3R",
    "outputId": "f382e17d-8642-4c41-96d3-3b770524d569"
   },
   "outputs": [],
   "source": [
    "# Run the function to download the SEC Form 4 ZIP files\n",
    "download_sec_zips()"
   ]
  },
  {
   "cell_type": "markdown",
   "metadata": {},
   "source": [
    "That concludes the notebook used to gather all archived Form 4 Insider trading data from the SEC website. Please feel free to continue on to 'Notebbok 2 - insider_zip_data_processing.ipynb' in order to see how we merge important files and then extract pertinent information for our project."
   ]
  }
 ],
 "metadata": {
  "colab": {
   "provenance": []
  },
  "kernelspec": {
   "display_name": "InsiderTrading",
   "language": "python",
   "name": "python3"
  },
  "language_info": {
   "codemirror_mode": {
    "name": "ipython",
    "version": 3
   },
   "file_extension": ".py",
   "mimetype": "text/x-python",
   "name": "python",
   "nbconvert_exporter": "python",
   "pygments_lexer": "ipython3",
   "version": "3.13.3"
  }
 },
 "nbformat": 4,
 "nbformat_minor": 0
}
